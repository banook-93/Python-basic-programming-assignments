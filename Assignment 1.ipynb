{
 "cells": [
  {
   "cell_type": "markdown",
   "metadata": {},
   "source": [
    "# 1. In the below elements which of them are values or an expression? eg:- values can be integer or string and expressions will be mathematical operators.\n",
    "\n",
    "* -> expression\n",
    "\n",
    "'hello' -> Value(String)\n",
    "\n",
    "-87.8 > Value(integer)\n",
    "\n",
    "- -> expression\n",
    "\n",
    "/ -> expression\n",
    "\n",
    "+ -> expression\n",
    "\n",
    "6 > Value(int)\n",
    "\n"
   ]
  },
  {
   "cell_type": "markdown",
   "metadata": {},
   "source": [
    "# 2. What is the difference between string and variable?"
   ]
  },
  {
   "cell_type": "markdown",
   "metadata": {},
   "source": [
    "Answer: String:\n",
    "\n",
    "Represents textual data.\n",
    "Enclosed within quotation marks.\n",
    "\n",
    "Variable:\n",
    "\n",
    "Named storage location.\n",
    "Holds a value of a specific data type."
   ]
  },
  {
   "cell_type": "markdown",
   "metadata": {},
   "source": [
    "# 3. Describe three different data types."
   ]
  },
  {
   "cell_type": "markdown",
   "metadata": {},
   "source": [
    "Answer: Integer (int): Represents whole numbers without decimal points.\n",
    "\n",
    "String (str): Represents textual data enclosed in quotation marks.\n",
    "\n",
    "Boolean (bool): Represents a logical value of either True or False."
   ]
  },
  {
   "cell_type": "markdown",
   "metadata": {},
   "source": [
    "# 4. What is an expression made up of? What do all expressions do?"
   ]
  },
  {
   "cell_type": "markdown",
   "metadata": {},
   "source": [
    "Answer: An expression is made up of one or more operands and operators. Operands can be variables, literals, function calls, or other expressions. Operators perform specific operations on the operands.\n",
    "\n",
    "\n",
    "Types of expression:\n",
    "\n",
    "Arithmetic expression:\n",
    "\n",
    "result = 2 + 3 * 4\n",
    "\n",
    "String concatenation expression:\n",
    "\n",
    "full_name = first_name + \" \" + last_name\n",
    "\n",
    "Function call expression:\n",
    "\n",
    "length = len(\"Hello, World!\")\n",
    "\n",
    "\n"
   ]
  },
  {
   "cell_type": "markdown",
   "metadata": {},
   "source": [
    "# 5. This assignment statements, like spam = 10. What is the difference between an expression and a statement?"
   ]
  },
  {
   "cell_type": "markdown",
   "metadata": {},
   "source": [
    "Answer: Expressions produce values while statements perform actions or carry out operations in a program. Expressions can be part of statements, and statements can contain expressions.\n",
    "\n"
   ]
  },
  {
   "cell_type": "markdown",
   "metadata": {},
   "source": [
    "# 6. After running the following code, what does the variable bacon contain?\n",
    "\n",
    "bacon = 22\n",
    "\n",
    "bacon + 1\n"
   ]
  },
  {
   "cell_type": "markdown",
   "metadata": {},
   "source": [
    "Answer: In the code bacon = 22, the variable bacon is assigned the value 22. Then, in the line bacon + 1, the expression bacon + 1 is evaluated, which results in the value 23. However, since this expression is not assigned to any variable or used in any way, the value 23 is not stored or updated in the bacon variable. Therefore, the variable bacon retains its original value of 22."
   ]
  },
  {
   "cell_type": "markdown",
   "metadata": {},
   "source": [
    "# 7. What should the values of the following two terms be?\n",
    "\n",
    "'spam' + 'spamspam'\n",
    "\n",
    "'spam' * 3\n"
   ]
  },
  {
   "cell_type": "markdown",
   "metadata": {},
   "source": [
    "Answer: The first term 'spam' + 'spamspam' evaluates to 'spamspamspam'.\n",
    "The second term 'spam' * 3 also evaluates to 'spamspamspam'."
   ]
  },
  {
   "cell_type": "markdown",
   "metadata": {},
   "source": [
    "# 8. Why is eggs a valid variable name while 100 is invalid?"
   ]
  },
  {
   "cell_type": "markdown",
   "metadata": {},
   "source": [
    "Answer: Variable names in Python must follow certain rules:\n",
    "\n",
    "They can't start with a number.\n",
    "\n",
    "Based on this rule, 'eggs' is a valid variable name because it starts with a letter, while '100' is invalid because it starts with a number."
   ]
  },
  {
   "cell_type": "markdown",
   "metadata": {},
   "source": [
    "# 9. What three functions can be used to get the integer, floating-point number, or string version of a value?"
   ]
  },
  {
   "cell_type": "markdown",
   "metadata": {},
   "source": [
    "Answer: In Python, you can use the following three functions to convert a value to its respective data type:\n",
    "\n",
    "int(): Converts a value to an integer data type.\n",
    "\n",
    "float(): Converts a value to a floating-point number data type.\n",
    "\n",
    "str(): Converts a value to a string data type."
   ]
  },
  {
   "cell_type": "markdown",
   "metadata": {},
   "source": [
    "# 10. Why does this expression cause an error? How can you fix it?\n",
    "\n",
    "'I have eaten ' + 99 + ' burritos.'"
   ]
  },
  {
   "cell_type": "markdown",
   "metadata": {},
   "source": [
    "Answer: The expression 'I have eaten ' + 99 + ' burritos.' causes an error because you cannot directly concatenate a string with an integer value.\n",
    "\n",
    "To fix it, you need to convert the integer value 99 to a string before concatenation. One way to do this is by using the str() function:\n",
    "\n",
    "'I have eaten ' + str(99) + ' burritos.'\n"
   ]
  },
  {
   "cell_type": "code",
   "execution_count": null,
   "metadata": {},
   "outputs": [],
   "source": []
  }
 ],
 "metadata": {
  "kernelspec": {
   "display_name": "Python 3",
   "language": "python",
   "name": "python3"
  },
  "language_info": {
   "codemirror_mode": {
    "name": "ipython",
    "version": 3
   },
   "file_extension": ".py",
   "mimetype": "text/x-python",
   "name": "python",
   "nbconvert_exporter": "python",
   "pygments_lexer": "ipython3",
   "version": "3.8.5"
  }
 },
 "nbformat": 4,
 "nbformat_minor": 4
}
